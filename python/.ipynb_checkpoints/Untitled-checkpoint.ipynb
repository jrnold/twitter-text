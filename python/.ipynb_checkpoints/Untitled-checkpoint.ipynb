{
 "cells": [
  {
   "cell_type": "code",
   "execution_count": 1,
   "metadata": {},
   "outputs": [],
   "source": [
    "%load_ext autoreload\n",
    "%autoreload 1\n",
    "%aimport twittertext"
   ]
  },
  {
   "cell_type": "code",
   "execution_count": 2,
   "metadata": {
    "collapsed": true
   },
   "outputs": [],
   "source": [
    "import ruamel.yaml\n",
    "import os.path\n",
    "conformance_dir = \"../conformance/\"\n",
    "tests = {}\n",
    "for fname in os.listdir(conformance_dir):\n",
    "    if os.path.splitext(fname)[1] == '.yml':\n",
    "        with open(os.path.join(conformance_dir, fname), encoding='utf8') as f:\n",
    "            key = os.path.splitext(fname)[0]\n",
    "            tests[key] = ruamel.yaml.load(f, Loader=ruamel.yaml.Loader)"
   ]
  },
  {
   "cell_type": "code",
   "execution_count": null,
   "metadata": {
    "collapsed": true
   },
   "outputs": [],
   "source": [
    "import re\n",
    "text = \"#hashtag here and #here and #another, #11\"\n",
    "hashtags = []\n"
   ]
  },
  {
   "cell_type": "code",
   "execution_count": null,
   "metadata": {},
   "outputs": [],
   "source": [
    "twittertext.NON_BMP_CODE_PAIRS"
   ]
  },
  {
   "cell_type": "code",
   "execution_count": null,
   "metadata": {},
   "outputs": [],
   "source": [
    "twittertext.NON_BMP_CODE_PAIRS"
   ]
  },
  {
   "cell_type": "code",
   "execution_count": null,
   "metadata": {},
   "outputs": [],
   "source": [
    "twittertext.ASTRAL_NUMERALS"
   ]
  },
  {
   "cell_type": "code",
   "execution_count": null,
   "metadata": {},
   "outputs": [],
   "source": [
    "twittertext.ASTRAL_LETTERS_AND_MARKS"
   ]
  },
  {
   "cell_type": "code",
   "execution_count": null,
   "metadata": {},
   "outputs": [],
   "source": [
    "twittertext.HASHTAG_ALPHA_NUMERIC"
   ]
  },
  {
   "cell_type": "code",
   "execution_count": null,
   "metadata": {},
   "outputs": [],
   "source": [
    "for test in tests['extract']['tests']['hashtags_from_astral']:\n",
    "    hashtags = twittertext.extract_hashtags(test['text'])\n",
    "    if hashtags != test['expected']:\n",
    "        print(re.findall(\"[\" + twittertext.ASTRAL_LETTERS_AND_MARKS + \"]\", test['text']))\n",
    "        print(test['description'])\n",
    "        print(test['text'].encode())\n",
    "        print(test['text'], \":\", test['expected'], hashtags)"
   ]
  },
  {
   "cell_type": "code",
   "execution_count": null,
   "metadata": {},
   "outputs": [],
   "source": [
    "for test in tests['extract']['tests']['hashtags']:\n",
    "    hashtags = twittertext.extract_hashtags(test['text'])\n",
    "    if hashtags != test['expected']:\n",
    "        print(test['description'])\n",
    "        print(test['text'], \":\", test['expected'], hashtags)\n",
    "    "
   ]
  },
  {
   "cell_type": "code",
   "execution_count": null,
   "metadata": {},
   "outputs": [],
   "source": [
    "import re\n",
    "#PUNCT = r\"!'#%&()*+,\\\\./:;<=>?@[\\]^_{|}~$-\"\n",
    "#CASHTAG = r\"[a-z]{1,6}(?:[._][a-z]{1,2})?\"\n",
    "#VALID_CASHTAG = r\"(?:\\$)(?P<cashtag>[a-z]{1,6})\"\n",
    "#VALID_CASHTAG = fr\"(?:^|(?<=[{twittertext.SPACES}]))(\\$)(?P<cashtag>{CASHTAG})(?:$|\\s|[{PUNCT}])\"\n",
    "print(twittertext.RE_VALID_CASHTAG)\n",
    "for test in tests['extract']['tests']['cashtags']:\n",
    "    cashtags = twittertext.extract_cashtags(test['text'])\n",
    "    if cashtags != test['expected']:\n",
    "        print(\"failed\")      \n",
    "        print(test['description'])\n",
    "        print(test['text'], \":\", test['expected'], cashtags)"
   ]
  },
  {
   "cell_type": "code",
   "execution_count": null,
   "metadata": {},
   "outputs": [],
   "source": [
    "[tests['extract']['tests'].keys()]"
   ]
  },
  {
   "cell_type": "raw",
   "metadata": {},
   "source": [
    "print(twittertext.PUNCT)"
   ]
  },
  {
   "cell_type": "code",
   "execution_count": null,
   "metadata": {},
   "outputs": [],
   "source": [
    "CASHTAG = r\"(?:[a-z]{1,6}(?:[._][a-z]{1,2})?)\"\n",
    "VALID_CASHTAG = r\"(?:^|[{SPACES}])(?:\\$)(?P<cashtag>{CASHTAG})(?:$|\\s|[{PUNCT}])\".\\\n",
    "    format(CASHTAG=CASHTAG, PUNCT=twittertext.PUNCT, SPACES=twittertext.SPACES)\n",
    "text = \"$TEST.T $test.tt $Stock_X $symbol_ab\"\n",
    "re.findall(VALID_CASHTAG, text, re.I)\n",
    "'$' in 'abc'"
   ]
  },
  {
   "cell_type": "code",
   "execution_count": null,
   "metadata": {
    "collapsed": true
   },
   "outputs": [],
   "source": [
    "for test in tests['extract']['tests']['cashtags']:\n",
    "    hashtags = twittertext.extract_hashtags(test['text'])\n",
    "    if hashtags != test['expected']:\n",
    "        print(test['description'])\n",
    "        print(test['text'], \":\", test['expected'], hashtags)"
   ]
  },
  {
   "cell_type": "code",
   "execution_count": null,
   "metadata": {},
   "outputs": [],
   "source": [
    "print(twittertext.RE_VALID_MENTION_OR_LIST)\n",
    "for test in tests['extract']['tests']['mentions']:\n",
    "    print(test['description'])\n",
    "    mentions = twittertext.extract_mentions(test['text'])\n",
    "    if test['expected'] != mentions:\n",
    "        print(test['text'])\n",
    "        print(\"Expected: \", test['expected'])\n",
    "        print(\"Actual: \", mentions)"
   ]
  },
  {
   "cell_type": "code",
   "execution_count": null,
   "metadata": {},
   "outputs": [],
   "source": [
    "print(twittertext.RE_VALID_MENTION_OR_LIST)\n",
    "for test in tests['extract']['tests']['mentions_or_lists_with_indices']:\n",
    "    print()\n",
    "    print(test['description'])\n",
    "    mentions = twittertext.extract_mentions_with_indices(test['text'])\n",
    "    if test['expected'] != mentions:\n",
    "        print(test['text'])\n",
    "        print(\"Expected: \", test['expected'])\n",
    "        print(\"Actual: \", mentions)\n",
    "    print()"
   ]
  },
  {
   "cell_type": "code",
   "execution_count": null,
   "metadata": {},
   "outputs": [],
   "source": [
    "print(twittertext.RE_VALID_REPLY)\n",
    "for test in tests['extract']['tests']['replies']:\n",
    "    print(test['description'])\n",
    "    replies = twittertext.extract_replies(test['text'])\n",
    "    if test['expected'] != replies:\n",
    "        print(test['text'])\n",
    "        print(\"Expected: \", test['expected'])\n",
    "        print(\"Actual: \", replies)"
   ]
  },
  {
   "cell_type": "code",
   "execution_count": null,
   "metadata": {},
   "outputs": [],
   "source": [
    "list(tests['extract']['tests'].keys())"
   ]
  },
  {
   "cell_type": "code",
   "execution_count": null,
   "metadata": {},
   "outputs": [],
   "source": [
    "reload(twittertext)"
   ]
  },
  {
   "cell_type": "code",
   "execution_count": 9,
   "metadata": {},
   "outputs": [
    {
     "name": "stdout",
     "output_type": "stream",
     "text": [
      "re.compile(\"\\n      (?P<before> (?:[^A-Za-z0-9@＠$#＃\\ufffe\\ufeff\\uffff\\u202a-\\u202e]|^) )\\n      (?P<url>\\n        (?P<protocol> https?:// ) ?\\n        (?P<domain> (?:(?:(?:[^!'#%&()*+,\\\\\\\\./:;<=>?@[\\\\]^_{|}~$\\\\-, re.IGNORECASE|re.VERBOSE)\n",
      "\t http://example.com :  ['http://example.com']\n",
      "\t text http://google.com :  ['http://google.com']\n",
      "\t text http://foobar.com/# :  ['http://foobar.com/#']\n",
      "\t text http://google.com/#foo :  ['http://google.com/#foo']\n",
      "\t text http://google.com/#search?q=iphone%20-filter%3Alinks :  ['http://google.com/#search?q=iphone%20-filter%3Alinks']\n",
      "\t text http://twitter.com/#search?q=iphone%20-filter%3Alinks :  ['http://twitter.com/#search?q=iphone%20-filter%3Alinks']\n",
      "\t text http://somedomain.com/index.php?path=/abc/def/ :  ['http://somedomain.com/index.php?path=/abc/def/']\n",
      "\t text http://www.boingboing.net/2007/02/14/katamari_damacy_phon.html :  ['http://www.boingboing.net/2007/02/14/katamari_damacy_phon.html']\n",
      "\t text http://somehost.com:3000 :  ['http://somehost.com:3000']\n",
      "\t text http://xo.com/~matthew+%ff-x :  ['http://xo.com/~matthew+%ff-x']\n",
      "\t text http://xo.com/~matthew+%ff-,.;x :  ['http://xo.com/~matthew+%ff-,.;x']\n",
      "\t text http://xo.com/,.;x :  ['http://xo.com/,.;x']\n",
      "\t text http://en.wikipedia.org/wiki/Primer_(film) :  ['http://en.wikipedia.org/wiki/Primer_(film)']\n",
      "\t text http://www.ams.org/bookstore-getitem/item=mbk-59 :  ['http://www.ams.org/bookstore-getitem/item=mbk-59']\n",
      "\t text http://✪df.ws/ejp :  ['http://✪df.ws/ejp']\n",
      "\t text http://chilp.it/?77e8fd :  ['http://chilp.it/?77e8fd']\n",
      "\t text http://x.com/oneletterdomain :  ['http://x.com/oneletterdomain']\n",
      "\t text http://msdn.microsoft.com/ja-jp/library/system.net.httpwebrequest(v=VS.100).aspx :  ['http://msdn.microsoft.com/ja-jp/library/system.net.httpwebrequest(v=VS.100).aspx']\n",
      "\t text http://domain-dash_2314352345_dfasd.foo-cow_4352.com :  ['dfasd.foo', '4352.com']\n",
      "\t text http://-dash_2314352345_dfasd.foo-cow_4352.com :  ['dfasd.foo', '4352.com']\n",
      "\t text http://no-tld :  []\n",
      "\t text http://tld-too-short.x :  []\n",
      "\t (http://twitter.com :  ['http://twitter.com']\n",
      "\t text http://word-and-a-number-8-ftw.domain.com/ :  ['http://word-and-a-number-8-ftw.domain.com/']\n",
      "\t text http://domain.com-that-you-should-have-put-a-space-after :  ['http://domain.com']\n",
      "\t text http://foo.com?#foo text :  ['http://foo.com?#foo']\n",
      "\t foo.com foo.net foo.org foo.edu foo.gov :  ['foo.com', 'foo.net', 'foo.org', 'foo.edu', 'foo.gov']\n",
      "\t foo.baz foo.co.jp www.xxxxxxx.baz www.foo.co.uk wwwww.xxxxxxx foo.comm foo.somecom foo.govedu foo.jp :  ['foo.co.jp', 'www.foo.co.uk', 'foo.jp']\n",
      "\t t.co/abcde bit.ly/abcde :  ['t.co/abcde', 'bit.ly/abcde']\n",
      "\t http://foo.jp http://fooooo.jp :  ['http://foo.jp', 'http://fooooo.jp']\n",
      "\t Go to http://example.com/a+ or http://example.com/a- :  ['http://example.com/a+', 'http://example.com/a-']\n",
      "\t Go to http://example.com/view/slug-url-?foo=bar :  ['http://example.com/view/slug-url-?foo=bar']\n",
      "\t Go to https://en.m.wikipedia.org/wiki/Hatfield–McCoy_feud please :  ['https://en.m.wikipedia.org/wiki/Hatfield–McCoy_feud']\n",
      "\t @user Try http:// example.com/path :  ['example.com/path']\n",
      "\t これは日本語です。example.com/path/index.html中国語example.com/path한국 :  ['れは日本語です。example.com/path/index.html', '国語example.com/path']\n",
      "\t twitter.comこれは日本語です。example.com中国語t.co/abcde한국twitter.com example2.comテストtwitter.com/abcde :  ['twitter.comこれは日本語です。example.com中国語t.co/abcde', '국twitter.com', 'example2.comテストtwitter.com/abcde']\n",
      "\t http://twitter.com/これは日本語です。example.com中国語http://t.co/abcde한국twitter.comテストexample2.comテストhttp://twitter.com/abcde :  ['http://twitter.com/', 'れは日本語です。example.com', 'http://t.co/abcde', '국twitter.comテストexample2.com', 'http://twitter.com/abcde']\n",
      "\t Go to http://twitter.com/Русские_слова :  ['http://twitter.com/Русские_слова']\n",
      "\t twitter.jp日本語it.so中国語foo.jp it.so foo.jp :  ['twitter.jp日本語it.so中国語foo.jp', 'it.so', 'foo.jp']\n",
      "\t MLB.tv vine.co twitch.tv t.co :  ['MLB.tv', 'vine.co', 'twitch.tv', 't.co']\n",
      "\t @user Try http:// example.com/path :  ['example.com/path']\n",
      "\t test http://sub_domain-dash.twitter.com :  ['http://sub_domain-dash.twitter.com']\n",
      "\t test http://a.b.cd :  ['http://a.b.cd']\n",
      "\t test http://a_b.c-d.com :  ['http://a_b.c-d.com']\n",
      "\t test http://a-b.c.com :  ['http://a-b.c.com']\n",
      "\t test http://twitter-dash.com :  ['http://twitter-dash.com']\n",
      "\t http://www.bestbuy.com/site/Currie+Technologies+-+Ezip+400+Scooter/9885188.p?id=1218189013070&skuId=9885188 :  ['http://www.bestbuy.com/site/Currie+Technologies+-+Ezip+400+Scooter/9885188.p?id=1218189013070&skuId=9885188']\n",
      "\t test http://-leadingdash.twitter.com :  ['leadingdash.twitter.com']\n",
      "\t test http://trailingdash-.twitter.com :  ['twitter.com']\n",
      "\t test http://_leadingunderscore.twitter.com :  ['leadingunderscore.twitter.com']\n",
      "\t test http://trailingunderscore_.twitter.com :  ['twitter.com']\n",
      "\t test http://-twitter.com :  ['twitter.com']\n",
      "\t test http://twitter-.com :  []\n",
      "\t test http://twitter_underscore.com :  ['underscore.com']\n",
      "\t test http://twitter.c_o_m :  []\n",
      "\t test http://www.foo.com/foo/path-with-period./ :  ['http://www.foo.com/foo/path-with-period./']\n",
      "\t test http://www.foo.org.za/foo/bar/688.1 :  ['http://www.foo.org.za/foo/bar/688.1']\n",
      "\t test http://www.foo.com/bar-path/some.stm?param1=foo;param2=P1|0||P2|0 :  ['http://www.foo.com/bar-path/some.stm?param1=foo;param2=P1|0||P2|0']\n",
      "\t test http://foo.com/bar/123/foo_&_bar/ :  ['http://foo.com/bar/123/foo_&_bar/']\n",
      "\t test http://www.cp.sc.edu/events/65 test :  ['http://www.cp.sc.edu/events/65']\n",
      "\t http://www.andersondaradio.no.comunidades.net/ test test :  ['http://www.andersondaradio.no.comunidades.net/']\n",
      "\t test ELPAÍS.com :  ['ELPAÍS.com']\n",
      "\t test http://twitter.com/. :  ['http://twitter.com/']\n",
      "\t http://tn.com.ar/show/00056158/la-estrella-del-certamen-el-turno-de-pamela-anderson?fb_xd_fragment#?=&cb=fe17523f223b7&relation=parent.parent&transport=fragment&type=resize&height=20&ackdata :  ['http://tn.com.ar/show/00056158/la-estrella-del-certamen-el-turno-de-pamela-anderson?fb_xd_fragment#?=&cb=fe17523f223b7&relation=parent.parent&transport=fragment&type=resize&height=20&ackdata']\n",
      "\t text http://tn.com.ar/show/00056158/la-estrella-del-certamen-el-turno-de-pamela-anderson?fb_xd_fragment#?=&cb=fe17523f223b7&relation=parent.parent&transport=fragment&type=resize&height=20&ackdata text :  ['http://tn.com.ar/show/00056158/la-estrella-del-certamen-el-turno-de-pamela-anderson?fb_xd_fragment#?=&cb=fe17523f223b7&relation=parent.parent&transport=fragment&type=resize&height=20&ackdata']\n",
      "\t Test a ton of periods http://example.com/path.......................................... :  ['http://example.com/path']\n",
      "\t Test a ton of periods http://example.com/,,,,,,,,,,,,,,,,,,,,,,,,,,,,,,,,,,,,,,,,,, :  ['http://example.com/']\n",
      "\t Test a ton of periods http://example.com/path/!!!!!!!!!!!!!!!!!!!!!!!!!!!!!!!!!!!!!!!!!! :  ['http://example.com/path/']\n",
      "\t #test.com @test.com #http://test.com @http://test.com #t.co/abcde @t.co/abcde :  ['test.com', 'test.com']\n",
      "\t I really like http://t.co/pbY2NfTZ's website :  [\"http://t.co/pbY2NfTZ's\"]\n",
      "\t Check this site out http://t.co/FNkPfmii- it's great :  ['http://t.co/FNkPfmii-']\n",
      "\t According to http://t.co/ulYGBYSo: the internet is cool :  ['http://t.co/ulYGBYSo']\n",
      "\t http://twitter.com\n",
      "http://example.com\n",
      "http://example.com/path\n",
      "example.com/path\n",
      "it.so\n",
      "it.so/abcde :  ['http://twitter.com', 'http://example.com', 'http://example.com/path', 'example.com/path', 'it.so', 'it.so/abcde']\n",
      "\t $http://twitter.com $twitter.com $http://t.co/abcde $t.co/abcde $t.co $TVI.CA $RBS.CA :  ['twitter.com', 't.co/abcde']\n",
      "\t long.test.tar.bz2 test.tar.bz2 tar.bz2 :  []\n",
      "\t john.doe.gov@mail.com :  []\n",
      "\t john.doe.jp@mail.com :  []\n"
     ]
    },
    {
     "name": "stderr",
     "output_type": "stream",
     "text": [
      "[autoreload of twittertext failed: Traceback (most recent call last):\n",
      "  File \"/Users/jrnold/anaconda/lib/python3.6/site-packages/IPython/extensions/autoreload.py\", line 247, in check\n",
      "    superreload(m, reload, self.old_objects)\n",
      "  File \"/Users/jrnold/Documents/projects/twitter-text/python/twittertext/__init__.py\", line 412\n",
      "    match(m.group('before')))\n",
      "                            ^\n",
      "SyntaxError: invalid syntax\n",
      "]\n"
     ]
    }
   ],
   "source": [
    "print(twittertext.RE_EXTRACT_URL)\n",
    "for test in tests['extract']['tests']['urls']:\n",
    "    print(test['description'])\n",
    "    urls = twittertext.extract_urls(test['text'])\n",
    "    if test['expected'] != urls:\n",
    "    #    print(\"\\t\", test['text'])\n",
    "    #    print(\"\\t\", \"Expected: \", test['expected'])\n",
    "    #    print(\"\\t\", \"Actual: \", replies)"
   ]
  },
  {
   "cell_type": "code",
   "execution_count": null,
   "metadata": {},
   "outputs": [],
   "source": [
    "print(twittertext.RE_EXTRACT_URL)\n",
    "twittertext.RE_EXTRACT_URL.search(\"http://example.com\")"
   ]
  },
  {
   "cell_type": "markdown",
   "metadata": {},
   "source": [
    "Helper functions for combining regexes, like `regexSupplant` in `twitter-text.js`."
   ]
  },
  {
   "cell_type": "code",
   "execution_count": null,
   "metadata": {
    "collapsed": true
   },
   "outputs": [],
   "source": [
    "import _sre\n",
    "def get_pattern(x):\n",
    "    \"\"\" Return regex pattern\n",
    "    \"\"\"\n",
    "    try:\n",
    "        return getattr(x, 'pattern')\n",
    "    except AttributeError:\n",
    "        return str(x)\n",
    "    \n",
    "def get_flags(x):\n",
    "    try:\n",
    "        return getattr(x, 'flags')\n",
    "    except AttributeError:\n",
    "        return 0\n",
    "    \n",
    "def regex_combine(pattern, flags=0, **kwargs):\n",
    "    replacements = {k: get_pattern(x) for k, x in kwargs.items()}\n",
    "    flags = flags + sum(get_flags(x) for x in kwargs.values())\n",
    "    return re.compile(pattern.format(**replacements), flags=flags)\n",
    "\n",
    "def add_pattern(x, key, pattern):\n",
    "    x[key] = pattern.format(**x)"
   ]
  },
  {
   "cell_type": "code",
   "execution_count": null,
   "metadata": {
    "collapsed": true
   },
   "outputs": [],
   "source": [
    "regex_combine(\"{foo}\", foo = re.compile(\"[abc]\", flags = re.I))"
   ]
  },
  {
   "cell_type": "code",
   "execution_count": null,
   "metadata": {
    "collapsed": true
   },
   "outputs": [],
   "source": []
  },
  {
   "cell_type": "code",
   "execution_count": null,
   "metadata": {
    "collapsed": true
   },
   "outputs": [],
   "source": [
    "import re\n",
    "re.findall(r\"%s\" % twittertext.HASHTAG_ALPHA, \"asdfa =++// !=0-\")"
   ]
  }
 ],
 "metadata": {
  "kernelspec": {
   "display_name": "Python 3",
   "language": "python",
   "name": "python3"
  },
  "language_info": {
   "codemirror_mode": {
    "name": "ipython",
    "version": 3
   },
   "file_extension": ".py",
   "mimetype": "text/x-python",
   "name": "python",
   "nbconvert_exporter": "python",
   "pygments_lexer": "ipython3",
   "version": "3.6.1"
  }
 },
 "nbformat": 4,
 "nbformat_minor": 2
}
